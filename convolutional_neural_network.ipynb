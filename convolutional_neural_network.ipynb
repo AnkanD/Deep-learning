{
  "nbformat": 4,
  "nbformat_minor": 0,
  "metadata": {
    "colab": {
      "name": "convolutional_neural_network.ipynb",
      "provenance": [],
      "collapsed_sections": [],
      "include_colab_link": true
    },
    "kernelspec": {
      "name": "python3",
      "display_name": "Python 3"
    }
  },
  "cells": [
    {
      "cell_type": "markdown",
      "metadata": {
        "id": "view-in-github",
        "colab_type": "text"
      },
      "source": [
        "<a href=\"https://colab.research.google.com/github/AnkanD/Deep-learning/blob/master/convolutional_neural_network.ipynb\" target=\"_parent\"><img src=\"https://colab.research.google.com/assets/colab-badge.svg\" alt=\"Open In Colab\"/></a>"
      ]
    },
    {
      "cell_type": "markdown",
      "metadata": {
        "id": "3DR-eO17geWu",
        "colab_type": "text"
      },
      "source": [
        "# Convolutional Neural Network"
      ]
    },
    {
      "cell_type": "markdown",
      "metadata": {
        "id": "EMefrVPCg-60",
        "colab_type": "text"
      },
      "source": [
        "### Importing the libraries"
      ]
    },
    {
      "cell_type": "code",
      "metadata": {
        "id": "Quy9GoZYAxLF",
        "colab_type": "code",
        "colab": {}
      },
      "source": [
        "import tensorflow as tf\n",
        "from keras.preprocessing.image import ImageDataGenerator"
      ],
      "execution_count": 34,
      "outputs": []
    },
    {
      "cell_type": "code",
      "metadata": {
        "id": "3kZ-kMMyHqwY",
        "colab_type": "code",
        "colab": {
          "base_uri": "https://localhost:8080/",
          "height": 35
        },
        "outputId": "cdd681de-cc6d-4b34-b107-3874531b7597"
      },
      "source": [
        "tf.__version__"
      ],
      "execution_count": 35,
      "outputs": [
        {
          "output_type": "execute_result",
          "data": {
            "application/vnd.google.colaboratory.intrinsic": {
              "type": "string"
            },
            "text/plain": [
              "'2.2.0'"
            ]
          },
          "metadata": {
            "tags": []
          },
          "execution_count": 35
        }
      ]
    },
    {
      "cell_type": "code",
      "metadata": {
        "id": "TrkVAP1IK-4u",
        "colab_type": "code",
        "colab": {
          "base_uri": "https://localhost:8080/",
          "height": 35
        },
        "outputId": "85ac192a-0534-41f5-89bd-ccb1ab1696d6"
      },
      "source": [
        "import os\n",
        "os.getcwd()"
      ],
      "execution_count": 42,
      "outputs": [
        {
          "output_type": "execute_result",
          "data": {
            "application/vnd.google.colaboratory.intrinsic": {
              "type": "string"
            },
            "text/plain": [
              "'/content'"
            ]
          },
          "metadata": {
            "tags": []
          },
          "execution_count": 42
        }
      ]
    },
    {
      "cell_type": "code",
      "metadata": {
        "id": "DEcL0xANSHRK",
        "colab_type": "code",
        "colab": {
          "base_uri": "https://localhost:8080/",
          "height": 54
        },
        "outputId": "27321196-011c-43d8-a595-0f069903fcda"
      },
      "source": [
        "from google.colab import drive\n",
        "drive.mount('/content/drive')"
      ],
      "execution_count": 46,
      "outputs": [
        {
          "output_type": "stream",
          "text": [
            "Drive already mounted at /content/drive; to attempt to forcibly remount, call drive.mount(\"/content/drive\", force_remount=True).\n"
          ],
          "name": "stdout"
        }
      ]
    },
    {
      "cell_type": "markdown",
      "metadata": {
        "id": "oxQxCBWyoGPE",
        "colab_type": "text"
      },
      "source": [
        "## Part 1 - Data Preprocessing"
      ]
    },
    {
      "cell_type": "markdown",
      "metadata": {
        "id": "MvE-heJNo3GG",
        "colab_type": "text"
      },
      "source": [
        "### Preprocessing the Training set"
      ]
    },
    {
      "cell_type": "code",
      "metadata": {
        "id": "emcbcJnYJRpk",
        "colab_type": "code",
        "colab": {}
      },
      "source": [
        "train_datagen = ImageDataGenerator(\n",
        "        rescale=1./255,\n",
        "        shear_range=0.2,\n",
        "        zoom_range=0.2,\n",
        "        horizontal_flip=True)\n"
      ],
      "execution_count": 48,
      "outputs": []
    },
    {
      "cell_type": "code",
      "metadata": {
        "id": "0hfzQS5HpiKE",
        "colab_type": "code",
        "colab": {
          "base_uri": "https://localhost:8080/",
          "height": 34
        },
        "outputId": "905fa0fe-d8dc-4486-aed8-941578981fbd"
      },
      "source": [
        "training_set = train_datagen.flow_from_directory(\n",
        "        '/content/drive/My Drive/Convolutional Neural Networks /dataset/training_set',\n",
        "        target_size=(64, 64),\n",
        "        batch_size=32,\n",
        "        class_mode='binary')\n"
      ],
      "execution_count": 52,
      "outputs": [
        {
          "output_type": "stream",
          "text": [
            "Found 8000 images belonging to 2 classes.\n"
          ],
          "name": "stdout"
        }
      ]
    },
    {
      "cell_type": "markdown",
      "metadata": {
        "id": "MW4p0CLIAZX4",
        "colab_type": "text"
      },
      "source": [
        "### Preprocessing the Test set\n"
      ]
    },
    {
      "cell_type": "code",
      "metadata": {
        "id": "GtpI-hDDJTiw",
        "colab_type": "code",
        "colab": {}
      },
      "source": [
        "test_datagen = ImageDataGenerator(rescale=1./255)\n"
      ],
      "execution_count": 63,
      "outputs": []
    },
    {
      "cell_type": "code",
      "metadata": {
        "id": "0cyDbzvctRwj",
        "colab_type": "code",
        "colab": {
          "base_uri": "https://localhost:8080/",
          "height": 34
        },
        "outputId": "374401cd-6f64-4ef5-8c80-2944cf9b720f"
      },
      "source": [
        "test_set = test_datagen.flow_from_directory(\n",
        "        '/content/drive/My Drive/Convolutional Neural Networks /dataset/test_set',\n",
        "        target_size=(64, 64),\n",
        "        batch_size=32,\n",
        "        class_mode='binary')"
      ],
      "execution_count": 64,
      "outputs": [
        {
          "output_type": "stream",
          "text": [
            "Found 2000 images belonging to 2 classes.\n"
          ],
          "name": "stdout"
        }
      ]
    },
    {
      "cell_type": "markdown",
      "metadata": {
        "id": "af8O4l90gk7B",
        "colab_type": "text"
      },
      "source": [
        "## Part 2 - Building the CNN"
      ]
    },
    {
      "cell_type": "markdown",
      "metadata": {
        "id": "ces1gXY2lmoX",
        "colab_type": "text"
      },
      "source": [
        "### Initialising the CNN"
      ]
    },
    {
      "cell_type": "code",
      "metadata": {
        "id": "vxRyqBhGhV6i",
        "colab_type": "code",
        "colab": {}
      },
      "source": [
        "cnn = tf.keras.models.Sequential()"
      ],
      "execution_count": 54,
      "outputs": []
    },
    {
      "cell_type": "markdown",
      "metadata": {
        "id": "u5YJj_XMl5LF",
        "colab_type": "text"
      },
      "source": [
        "### Step 1 - Convolution"
      ]
    },
    {
      "cell_type": "code",
      "metadata": {
        "id": "3Tv3t2HqhfGv",
        "colab_type": "code",
        "colab": {}
      },
      "source": [
        "cnn.add(tf.keras.layers.Conv2D(filters=32,kernel_size=3,activation='relu',input_shape=[64,64,3]))"
      ],
      "execution_count": 55,
      "outputs": []
    },
    {
      "cell_type": "markdown",
      "metadata": {
        "id": "tf87FpvxmNOJ",
        "colab_type": "text"
      },
      "source": [
        "### Step 2 - Pooling"
      ]
    },
    {
      "cell_type": "code",
      "metadata": {
        "id": "XlntMXAfiUaF",
        "colab_type": "code",
        "colab": {}
      },
      "source": [
        "cnn.add(tf.keras.layers.MaxPool2D(pool_size=(2,2),strides=2))"
      ],
      "execution_count": 56,
      "outputs": []
    },
    {
      "cell_type": "markdown",
      "metadata": {
        "id": "xaTOgD8rm4mU",
        "colab_type": "text"
      },
      "source": [
        "### Adding a second convolutional layer"
      ]
    },
    {
      "cell_type": "code",
      "metadata": {
        "id": "bgksmgwcijEE",
        "colab_type": "code",
        "colab": {}
      },
      "source": [
        "cnn.add(tf.keras.layers.Conv2D(filters=32,kernel_size=3,activation='relu'))\n",
        "cnn.add(tf.keras.layers.MaxPool2D(pool_size=(2,2),strides=2))"
      ],
      "execution_count": 57,
      "outputs": []
    },
    {
      "cell_type": "markdown",
      "metadata": {
        "id": "tmiEuvTunKfk",
        "colab_type": "text"
      },
      "source": [
        "### Step 3 - Flattening"
      ]
    },
    {
      "cell_type": "code",
      "metadata": {
        "id": "9kliq5NviqQc",
        "colab_type": "code",
        "colab": {}
      },
      "source": [
        "cnn.add(tf.keras.layers.Flatten())"
      ],
      "execution_count": 58,
      "outputs": []
    },
    {
      "cell_type": "markdown",
      "metadata": {
        "id": "dAoSECOm203v",
        "colab_type": "text"
      },
      "source": [
        "### Step 4 - Full Connection"
      ]
    },
    {
      "cell_type": "code",
      "metadata": {
        "id": "dBnWMzI4i2MY",
        "colab_type": "code",
        "colab": {}
      },
      "source": [
        "cnn.add(tf.keras.layers.Dense(units=128, activation='relu'))"
      ],
      "execution_count": 59,
      "outputs": []
    },
    {
      "cell_type": "markdown",
      "metadata": {
        "id": "yTldFvbX28Na",
        "colab_type": "text"
      },
      "source": [
        "### Step 5 - Output Layer"
      ]
    },
    {
      "cell_type": "code",
      "metadata": {
        "id": "K8WP-UUmrSot",
        "colab_type": "code",
        "colab": {}
      },
      "source": [
        "cnn.add(tf.keras.layers.Dense(units=1, activation='sigmoid'))"
      ],
      "execution_count": 60,
      "outputs": []
    },
    {
      "cell_type": "markdown",
      "metadata": {
        "id": "D6XkI90snSDl",
        "colab_type": "text"
      },
      "source": [
        "## Part 3 - Training the CNN"
      ]
    },
    {
      "cell_type": "markdown",
      "metadata": {
        "id": "vfrFQACEnc6i",
        "colab_type": "text"
      },
      "source": [
        "### Compiling the CNN"
      ]
    },
    {
      "cell_type": "code",
      "metadata": {
        "id": "VSjF1_pysxW2",
        "colab_type": "code",
        "colab": {}
      },
      "source": [
        "cnn.compile(optimizer = 'adam', loss = 'binary_crossentropy', metrics = ['accuracy'])"
      ],
      "execution_count": 61,
      "outputs": []
    },
    {
      "cell_type": "markdown",
      "metadata": {
        "id": "ehS-v3MIpX2h",
        "colab_type": "text"
      },
      "source": [
        "### Training the CNN on the Training set and evaluating it on the Test set"
      ]
    },
    {
      "cell_type": "code",
      "metadata": {
        "id": "rLbq5EmltKxb",
        "colab_type": "code",
        "colab": {
          "base_uri": "https://localhost:8080/",
          "height": 904
        },
        "outputId": "301b8212-e2a5-481d-88b1-868090a5fb38"
      },
      "source": [
        "cnn.fit(x = training_set, validation_data= test_set, epochs = 25)"
      ],
      "execution_count": 65,
      "outputs": [
        {
          "output_type": "stream",
          "text": [
            "Epoch 1/25\n",
            "250/250 [==============================] - 1890s 8s/step - loss: 0.6712 - accuracy: 0.5820 - val_loss: 0.6149 - val_accuracy: 0.6760\n",
            "Epoch 2/25\n",
            "250/250 [==============================] - 81s 323ms/step - loss: 0.5934 - accuracy: 0.6841 - val_loss: 0.6177 - val_accuracy: 0.6590\n",
            "Epoch 3/25\n",
            "250/250 [==============================] - 81s 323ms/step - loss: 0.5602 - accuracy: 0.7117 - val_loss: 0.5075 - val_accuracy: 0.7575\n",
            "Epoch 4/25\n",
            "250/250 [==============================] - 81s 326ms/step - loss: 0.5215 - accuracy: 0.7424 - val_loss: 0.4853 - val_accuracy: 0.7660\n",
            "Epoch 5/25\n",
            "250/250 [==============================] - 81s 322ms/step - loss: 0.4919 - accuracy: 0.7610 - val_loss: 0.4973 - val_accuracy: 0.7595\n",
            "Epoch 6/25\n",
            "250/250 [==============================] - 80s 322ms/step - loss: 0.4795 - accuracy: 0.7692 - val_loss: 0.5218 - val_accuracy: 0.7570\n",
            "Epoch 7/25\n",
            "250/250 [==============================] - 80s 320ms/step - loss: 0.4544 - accuracy: 0.7866 - val_loss: 0.4914 - val_accuracy: 0.7805\n",
            "Epoch 8/25\n",
            "250/250 [==============================] - 82s 327ms/step - loss: 0.4423 - accuracy: 0.7891 - val_loss: 0.4977 - val_accuracy: 0.7670\n",
            "Epoch 9/25\n",
            "250/250 [==============================] - 81s 324ms/step - loss: 0.4256 - accuracy: 0.8052 - val_loss: 0.4785 - val_accuracy: 0.7845\n",
            "Epoch 10/25\n",
            "250/250 [==============================] - 81s 325ms/step - loss: 0.4043 - accuracy: 0.8146 - val_loss: 0.4514 - val_accuracy: 0.7975\n",
            "Epoch 11/25\n",
            "250/250 [==============================] - 81s 323ms/step - loss: 0.3971 - accuracy: 0.8173 - val_loss: 0.4470 - val_accuracy: 0.7925\n",
            "Epoch 12/25\n",
            "250/250 [==============================] - 81s 325ms/step - loss: 0.3790 - accuracy: 0.8264 - val_loss: 0.4486 - val_accuracy: 0.8070\n",
            "Epoch 13/25\n",
            "250/250 [==============================] - 80s 318ms/step - loss: 0.3669 - accuracy: 0.8322 - val_loss: 0.4574 - val_accuracy: 0.8005\n",
            "Epoch 14/25\n",
            "250/250 [==============================] - 79s 316ms/step - loss: 0.3564 - accuracy: 0.8447 - val_loss: 0.4463 - val_accuracy: 0.8000\n",
            "Epoch 15/25\n",
            "250/250 [==============================] - 80s 320ms/step - loss: 0.3404 - accuracy: 0.8475 - val_loss: 0.4945 - val_accuracy: 0.7970\n",
            "Epoch 16/25\n",
            "250/250 [==============================] - 80s 321ms/step - loss: 0.3282 - accuracy: 0.8568 - val_loss: 0.4721 - val_accuracy: 0.8020\n",
            "Epoch 17/25\n",
            "250/250 [==============================] - 81s 322ms/step - loss: 0.3167 - accuracy: 0.8649 - val_loss: 0.5029 - val_accuracy: 0.7815\n",
            "Epoch 18/25\n",
            "250/250 [==============================] - 81s 324ms/step - loss: 0.2980 - accuracy: 0.8708 - val_loss: 0.4451 - val_accuracy: 0.8105\n",
            "Epoch 19/25\n",
            "250/250 [==============================] - 81s 325ms/step - loss: 0.2898 - accuracy: 0.8744 - val_loss: 0.4483 - val_accuracy: 0.8050\n",
            "Epoch 20/25\n",
            "250/250 [==============================] - 80s 322ms/step - loss: 0.2734 - accuracy: 0.8826 - val_loss: 0.4820 - val_accuracy: 0.8025\n",
            "Epoch 21/25\n",
            "250/250 [==============================] - 79s 317ms/step - loss: 0.2531 - accuracy: 0.8935 - val_loss: 0.4660 - val_accuracy: 0.8170\n",
            "Epoch 22/25\n",
            "250/250 [==============================] - 80s 321ms/step - loss: 0.2433 - accuracy: 0.8992 - val_loss: 0.5158 - val_accuracy: 0.8045\n",
            "Epoch 23/25\n",
            "250/250 [==============================] - 83s 334ms/step - loss: 0.2440 - accuracy: 0.8969 - val_loss: 0.5486 - val_accuracy: 0.7850\n",
            "Epoch 24/25\n",
            "250/250 [==============================] - 82s 328ms/step - loss: 0.2220 - accuracy: 0.9105 - val_loss: 0.5230 - val_accuracy: 0.8210\n",
            "Epoch 25/25\n",
            "250/250 [==============================] - 82s 330ms/step - loss: 0.2147 - accuracy: 0.9096 - val_loss: 0.5519 - val_accuracy: 0.8050\n"
          ],
          "name": "stdout"
        },
        {
          "output_type": "execute_result",
          "data": {
            "text/plain": [
              "<tensorflow.python.keras.callbacks.History at 0x7fa4f0aecc50>"
            ]
          },
          "metadata": {
            "tags": []
          },
          "execution_count": 65
        }
      ]
    },
    {
      "cell_type": "markdown",
      "metadata": {
        "id": "U3PZasO0006Z",
        "colab_type": "text"
      },
      "source": [
        "## Part 4 - Making a single prediction"
      ]
    },
    {
      "cell_type": "code",
      "metadata": {
        "id": "BYOoj4zt4Uif",
        "colab_type": "code",
        "colab": {}
      },
      "source": [
        "import numpy as np\n",
        "from keras.preprocessing import image\n",
        "test_image = image.load_img('/content/drive/My Drive/Convolutional Neural Networks /dataset/single_prediction/cat_or_dog_1.jpg',target_size=(64,64))\n",
        "test_image = image.img_to_array(test_image)\n",
        "test_image = np.expand_dims(test_image,axis=0)  \n",
        "result = cnn.predict(test_image)\n",
        "training_set.class_indices\n",
        "predict = 'Dog' if result[0][0] == 1 else 'Cat'\n"
      ],
      "execution_count": 67,
      "outputs": []
    },
    {
      "cell_type": "code",
      "metadata": {
        "id": "JUxME_0--Pnj",
        "colab_type": "code",
        "colab": {
          "base_uri": "https://localhost:8080/",
          "height": 34
        },
        "outputId": "e5844bcb-bced-4959-f303-25b808a181a5"
      },
      "source": [
        "print(predict)"
      ],
      "execution_count": 68,
      "outputs": [
        {
          "output_type": "stream",
          "text": [
            "Dog\n"
          ],
          "name": "stdout"
        }
      ]
    }
  ]
}